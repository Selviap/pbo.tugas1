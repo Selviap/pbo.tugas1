{
  "nbformat": 4,
  "nbformat_minor": 0,
  "metadata": {
    "colab": {
      "provenance": [],
      "include_colab_link": true
    },
    "kernelspec": {
      "name": "python3",
      "display_name": "Python 3"
    },
    "language_info": {
      "name": "python"
    }
  },
  "cells": [
    {
      "cell_type": "markdown",
      "metadata": {
        "id": "view-in-github",
        "colab_type": "text"
      },
      "source": [
        "<a href=\"https://colab.research.google.com/github/Selviap/pbo.tugas1/blob/main/Copy_of_TugasInheritanceSiswa1.ipynb\" target=\"_parent\"><img src=\"https://colab.research.google.com/assets/colab-badge.svg\" alt=\"Open In Colab\"/></a>"
      ]
    },
    {
      "cell_type": "markdown",
      "source": [
        "Buatlah class Karyawan yang memiliki atribut id, nama dan departemen dan sebuah fungsi bernama hitung_gaji. Untuk hitung gaji pada class Karyawan tidak berisi perhitungan gaji, namun hanya berisi pass"
      ],
      "metadata": {
        "id": "Um7eIwqGTwV8"
      }
    },
    {
      "cell_type": "code",
      "execution_count": 1,
      "metadata": {
        "id": "LMDiMb1-Dtzp"
      },
      "outputs": [],
      "source": [
        "class Karyawan:\n",
        " def __init__(self, id, nama, menejer):\n",
        "  self.id = id\n",
        "  self.nama = nama\n",
        "  self.menejer = menejer"
      ]
    },
    {
      "cell_type": "code",
      "source": [
        "\n",
        "def hitung_gaji (self):\n",
        "  pass"
      ],
      "metadata": {
        "id": "01bnTGM3wdEf"
      },
      "execution_count": 3,
      "outputs": []
    },
    {
      "cell_type": "markdown",
      "source": [
        "Buatlah class Penuh yang merupakan turunan dari class Karyawan dan memili atribut tambahan bernama gaji. Kemudian class Penuh ini juga memiliki fungsi hitung_gaji sendiri yang berfungsi mengembalikan nilai gajinya."
      ],
      "metadata": {
        "id": "CLMRhqWUUHoZ"
      }
    },
    {
      "cell_type": "code",
      "source": [
        "class Penuh(Karyawan):\n",
        "  def __init__(self, id, nama, menejer, gaji):\n",
        "    super().__init__(id, nama, menejer)\n",
        "    self.gaji = gaji\n",
        "\n",
        "  def hitung_gaji(self):\n",
        "    return self.gaji"
      ],
      "metadata": {
        "id": "MZwsxgPDEZNs"
      },
      "execution_count": 5,
      "outputs": []
    },
    {
      "cell_type": "markdown",
      "source": [
        "Buatlah class ParuhWaktu yang merupakan turunan dari class Karyawan dan memiliki 2 atribut tambahan bernama jam_kerja dan tarif_per_jam. Kemudian class ParuhWaktu ini juga memiliki fungsi hitung_gaji sendiri yang berfungsi mengembalikan nilai gajinya dengan rumus jam_kerja dikalikan tarif_per_jam."
      ],
      "metadata": {
        "id": "ywi3yeiqUjlh"
      }
    },
    {
      "cell_type": "code",
      "source": [
        "class ParuhWaktu(Karyawan):\n",
        "  def __init__(self, id, nama, menejer, jam_kerja, tarif_per_jam):\n",
        "    super().__init__(id, nama, menejer)\n",
        "    self.jam_kerja = jam_kerja\n",
        "    self.tarif_per_jam = tarif_per_jam\n",
        "  def hitung_gaji(self):\n",
        "    return self.jam_kerja * self.tarif_per_jam"
      ],
      "metadata": {
        "id": "HLBTYAVKEc7E"
      },
      "execution_count": 8,
      "outputs": []
    },
    {
      "cell_type": "markdown",
      "source": [
        "Kemudian jalankan kode program berikut ini, ubah kode karyawan, nama, departemen, gaji, jam_kerja dan tarif_per_jam sesuai keinginan anda sendiri"
      ],
      "metadata": {
        "id": "qjE3CE61VSzn"
      }
    },
    {
      "cell_type": "code",
      "source": [
        "# Membuat objek dari kelas anak\n",
        "Dewa = Penuh(\"FT001\", \"Dewa\", \"HR\", 50000000)\n",
        "Bryan = ParuhWaktu(\"PT001\", \"Bryan\", \"IT\", 20, 150000)\n",
        "\n",
        "# Menghitung gaji\n",
        "print(f\"Gaji {Dewa.nama}: Rp {Dewa.hitung_gaji()}\")  # Output: Gaji Dewa: Rp 10000000\n",
        "print(f\"Gaji {Bryan.nama}: Rp {Bryan.hitung_gaji()}\")  # Output: Gaji Bryan: Rp 3000000"
      ],
      "metadata": {
        "id": "jwwX3nI8Efh8",
        "colab": {
          "base_uri": "https://localhost:8080/"
        },
        "outputId": "091bff18-5b94-4215-c68a-2b3dca7be1b6"
      },
      "execution_count": 21,
      "outputs": [
        {
          "output_type": "stream",
          "name": "stdout",
          "text": [
            "Gaji Dewa: Rp 50000000\n",
            "Gaji Bryan: Rp 3000000\n"
          ]
        }
      ]
    }
  ]
}